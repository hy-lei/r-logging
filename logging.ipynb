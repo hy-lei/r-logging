{
 "cells": [
  {
   "cell_type": "markdown",
   "metadata": {},
   "source": [
    "# Logging in R: Tutorial"
   ]
  },
  {
   "cell_type": "code",
   "execution_count": 1,
   "metadata": {},
   "outputs": [],
   "source": [
    "library(logging)"
   ]
  },
  {
   "cell_type": "code",
   "execution_count": 2,
   "metadata": {},
   "outputs": [],
   "source": [
    "basicConfig()"
   ]
  },
  {
   "cell_type": "markdown",
   "metadata": {},
   "source": [
    "## The basics"
   ]
  },
  {
   "cell_type": "code",
   "execution_count": 3,
   "metadata": {},
   "outputs": [
    {
     "data": {
      "text/html": [
       "<ol class=list-inline>\n",
       "\t<li>'addHandler'</li>\n",
       "\t<li>'handlers'</li>\n",
       "\t<li>'level'</li>\n",
       "\t<li>'msg_composer'</li>\n",
       "\t<li>'name'</li>\n",
       "\t<li>'removeHandler'</li>\n",
       "</ol>\n"
      ],
      "text/latex": [
       "\\begin{enumerate*}\n",
       "\\item 'addHandler'\n",
       "\\item 'handlers'\n",
       "\\item 'level'\n",
       "\\item 'msg\\_composer'\n",
       "\\item 'name'\n",
       "\\item 'removeHandler'\n",
       "\\end{enumerate*}\n"
      ],
      "text/markdown": [
       "1. 'addHandler'\n",
       "2. 'handlers'\n",
       "3. 'level'\n",
       "4. 'msg_composer'\n",
       "5. 'name'\n",
       "6. 'removeHandler'\n",
       "\n",
       "\n"
      ],
      "text/plain": [
       "[1] \"addHandler\"    \"handlers\"      \"level\"         \"msg_composer\" \n",
       "[5] \"name\"          \"removeHandler\""
      ]
     },
     "metadata": {},
     "output_type": "display_data"
    }
   ],
   "source": [
    "ls(getLogger())"
   ]
  },
  {
   "cell_type": "code",
   "execution_count": 4,
   "metadata": {},
   "outputs": [
    {
     "data": {
      "text/html": [
       "<strong>INFO:</strong> 20"
      ],
      "text/latex": [
       "\\textbf{INFO:} 20"
      ],
      "text/markdown": [
       "**INFO:** 20"
      ],
      "text/plain": [
       "INFO \n",
       "  20 "
      ]
     },
     "metadata": {},
     "output_type": "display_data"
    }
   ],
   "source": [
    "getLogger()[['level']]"
   ]
  },
  {
   "cell_type": "code",
   "execution_count": 5,
   "metadata": {},
   "outputs": [
    {
     "data": {
      "text/plain": [
       "$basic.stdout\n",
       "<environment: 0x7ff39b47e3c8>\n"
      ]
     },
     "metadata": {},
     "output_type": "display_data"
    }
   ],
   "source": [
    "getLogger()[['handlers']]"
   ]
  },
  {
   "cell_type": "code",
   "execution_count": 6,
   "metadata": {},
   "outputs": [
    {
     "name": "stdout",
     "output_type": "stream",
     "text": [
      "\u001b[0m2019-07-21 01:26:09 INFO::does it work?\u001b[0m\u001b[0m\u001b[0m\n"
     ]
    }
   ],
   "source": [
    "loginfo('does it work?')"
   ]
  },
  {
   "cell_type": "code",
   "execution_count": 7,
   "metadata": {},
   "outputs": [
    {
     "name": "stdout",
     "output_type": "stream",
     "text": [
      "\u001b[38;5;214m2019-07-21 01:26:09 WARNING::my name is 5\u001b[39m\u001b[0m\u001b[0m\n"
     ]
    }
   ],
   "source": [
    "logwarn('my %s is %d', 'name', 5)"
   ]
  },
  {
   "cell_type": "code",
   "execution_count": 8,
   "metadata": {},
   "outputs": [],
   "source": [
    "logdebug('I am a silent child')"
   ]
  },
  {
   "cell_type": "markdown",
   "metadata": {},
   "source": [
    "We add an other handler to the console, without specifying its name.  It gets one automatically from the name of the function.  You can add and remove handlers using their names.  You can also refer to them by function, if that is the way you define it."
   ]
  },
  {
   "cell_type": "code",
   "execution_count": 9,
   "metadata": {},
   "outputs": [],
   "source": [
    "addHandler(writeToConsole)"
   ]
  },
  {
   "cell_type": "code",
   "execution_count": 10,
   "metadata": {},
   "outputs": [
    {
     "data": {
      "text/html": [
       "<ol class=list-inline>\n",
       "\t<li>'basic.stdout'</li>\n",
       "\t<li>'writeToConsole'</li>\n",
       "</ol>\n"
      ],
      "text/latex": [
       "\\begin{enumerate*}\n",
       "\\item 'basic.stdout'\n",
       "\\item 'writeToConsole'\n",
       "\\end{enumerate*}\n"
      ],
      "text/markdown": [
       "1. 'basic.stdout'\n",
       "2. 'writeToConsole'\n",
       "\n",
       "\n"
      ],
      "text/plain": [
       "[1] \"basic.stdout\"   \"writeToConsole\""
      ]
     },
     "metadata": {},
     "output_type": "display_data"
    }
   ],
   "source": [
    "names(getLogger()[['handlers']])"
   ]
  },
  {
   "cell_type": "code",
   "execution_count": 11,
   "metadata": {},
   "outputs": [
    {
     "name": "stdout",
     "output_type": "stream",
     "text": [
      "\u001b[0m2019-07-21 01:26:10 INFO::test\u001b[0m\u001b[0m\u001b[0m\n",
      "\u001b[0m2019-07-21 01:26:10 INFO::test\u001b[0m\u001b[0m\u001b[0m\n"
     ]
    }
   ],
   "source": [
    "loginfo('test')"
   ]
  },
  {
   "cell_type": "code",
   "execution_count": 12,
   "metadata": {},
   "outputs": [
    {
     "name": "stdout",
     "output_type": "stream",
     "text": [
      "\u001b[38;5;214m2019-07-21 01:26:10 WARNING::test\u001b[39m\u001b[0m\u001b[0m\n",
      "\u001b[38;5;214m2019-07-21 01:26:10 WARNING::test\u001b[39m\u001b[0m\u001b[0m\n"
     ]
    }
   ],
   "source": [
    "logwarn('test')"
   ]
  },
  {
   "cell_type": "code",
   "execution_count": 13,
   "metadata": {},
   "outputs": [],
   "source": [
    "removeHandler('writeToConsole')"
   ]
  },
  {
   "cell_type": "code",
   "execution_count": 14,
   "metadata": {},
   "outputs": [
    {
     "name": "stdout",
     "output_type": "stream",
     "text": [
      "\u001b[38;5;214m2019-07-21 01:26:10 WARNING::test\u001b[39m\u001b[0m\u001b[0m\n"
     ]
    }
   ],
   "source": [
    "logwarn('test')"
   ]
  },
  {
   "cell_type": "markdown",
   "metadata": {},
   "source": [
    "Handlers have a level associated to them.  Any logging record passing through a handler and having a severity lower than the level of the handler is ignored.  You can alter the level of a handler.  This is what we do in the following lines: we alter the level of the default console handler 'basic.stdout' to 30 (**WARN**)."
   ]
  },
  {
   "cell_type": "code",
   "execution_count": 15,
   "metadata": {},
   "outputs": [],
   "source": [
    "addHandler(writeToConsole)"
   ]
  },
  {
   "cell_type": "code",
   "execution_count": 16,
   "metadata": {},
   "outputs": [],
   "source": [
    "setLevel(30, getHandler('basic.stdout'))"
   ]
  },
  {
   "cell_type": "code",
   "execution_count": 17,
   "metadata": {},
   "outputs": [
    {
     "name": "stdout",
     "output_type": "stream",
     "text": [
      "\u001b[38;5;214m2019-07-21 01:26:10 WARNING::test\u001b[39m\u001b[0m\u001b[0m\n",
      "\u001b[38;5;214m2019-07-21 01:26:10 WARNING::test\u001b[39m\u001b[0m\u001b[0m\n"
     ]
    }
   ],
   "source": [
    "logwarn('test')"
   ]
  },
  {
   "cell_type": "code",
   "execution_count": 18,
   "metadata": {},
   "outputs": [
    {
     "name": "stdout",
     "output_type": "stream",
     "text": [
      "\u001b[0m2019-07-21 01:26:10 INFO::test\u001b[0m\u001b[0m\u001b[0m\n"
     ]
    }
   ],
   "source": [
    "loginfo('test')"
   ]
  },
  {
   "cell_type": "code",
   "execution_count": 19,
   "metadata": {},
   "outputs": [
    {
     "data": {
      "text/html": [
       "<strong>WARNING:</strong> 30"
      ],
      "text/latex": [
       "\\textbf{WARNING:} 30"
      ],
      "text/markdown": [
       "**WARNING:** 30"
      ],
      "text/plain": [
       "WARNING \n",
       "     30 "
      ]
     },
     "metadata": {},
     "output_type": "display_data"
    }
   ],
   "source": [
    "getHandler('basic.stdout')[['level']]"
   ]
  },
  {
   "cell_type": "code",
   "execution_count": 20,
   "metadata": {},
   "outputs": [
    {
     "data": {
      "text/html": [
       "<strong>NOTSET:</strong> 0"
      ],
      "text/latex": [
       "\\textbf{NOTSET:} 0"
      ],
      "text/markdown": [
       "**NOTSET:** 0"
      ],
      "text/plain": [
       "NOTSET \n",
       "     0 "
      ]
     },
     "metadata": {},
     "output_type": "display_data"
    }
   ],
   "source": [
    "getHandler('writeToConsole')[['level']]"
   ]
  },
  {
   "cell_type": "markdown",
   "metadata": {},
   "source": [
    "## Hierarchical loggers"
   ]
  },
  {
   "cell_type": "markdown",
   "metadata": {},
   "source": [
    "In the previous section we have worked *implicitly* with one logger, the root logger.  We can refer to it explicitly by specifying the 'logger' parameter in our function calls.  The name of the root logger is the empty string.  This also explains that \"::\" in the messages sent to the console, between the first and the second \":\" there's the name of the logger that is associated to the log record shown."
   ]
  },
  {
   "cell_type": "code",
   "execution_count": 21,
   "metadata": {},
   "outputs": [
    {
     "data": {
      "text/html": [
       "<ol class=list-inline>\n",
       "\t<li>'basic.stdout'</li>\n",
       "\t<li>'writeToConsole'</li>\n",
       "</ol>\n"
      ],
      "text/latex": [
       "\\begin{enumerate*}\n",
       "\\item 'basic.stdout'\n",
       "\\item 'writeToConsole'\n",
       "\\end{enumerate*}\n"
      ],
      "text/markdown": [
       "1. 'basic.stdout'\n",
       "2. 'writeToConsole'\n",
       "\n",
       "\n"
      ],
      "text/plain": [
       "[1] \"basic.stdout\"   \"writeToConsole\""
      ]
     },
     "metadata": {},
     "output_type": "display_data"
    }
   ],
   "source": [
    "with(getLogger(logger=''), names(handlers))"
   ]
  },
  {
   "cell_type": "code",
   "execution_count": 22,
   "metadata": {},
   "outputs": [
    {
     "data": {
      "text/plain": [
       "NULL"
      ]
     },
     "metadata": {},
     "output_type": "display_data"
    }
   ],
   "source": [
    "with(getLogger('libro'), names(handlers))"
   ]
  },
  {
   "cell_type": "markdown",
   "metadata": {},
   "source": [
    "when issuing a logging record, you can specify to which logger you want to send it.  **Loggers are created when first needed**, so we can just assume all loggers we need also exist.  The logger will offer it to all its attached handlers and then pass it to its parent logger.  Loggers are organized hierarchically, in a way that is similar to the way directories are organized."
   ]
  },
  {
   "cell_type": "markdown",
   "metadata": {},
   "source": [
    "Just as directories contain files, loggers contain handlers and their name is, within the logger, unique.  Also similar to directories, all loggers have one parent, except the root logger that has none.  **The name of the logger specifies the location of the logger in this hierarchy.**"
   ]
  },
  {
   "cell_type": "markdown",
   "metadata": {},
   "source": [
    "Let's start from scratch, either a brand new R session or by resetting the logging system."
   ]
  },
  {
   "cell_type": "code",
   "execution_count": 23,
   "metadata": {},
   "outputs": [],
   "source": [
    "logReset()"
   ]
  },
  {
   "cell_type": "code",
   "execution_count": 24,
   "metadata": {},
   "outputs": [],
   "source": [
    "addHandler(writeToConsole, logger='libro.romanzo')"
   ]
  },
  {
   "cell_type": "code",
   "execution_count": 25,
   "metadata": {},
   "outputs": [
    {
     "name": "stdout",
     "output_type": "stream",
     "text": [
      "\u001b[0m2019-07-21 01:26:10 INFO:libro.romanzo.companile:Ma cos'è questo amore?\u001b[0m\u001b[0m\u001b[0m\n"
     ]
    }
   ],
   "source": [
    "loginfo('Ma cos\\'è questo amore?', logger='libro.romanzo.companile')"
   ]
  },
  {
   "cell_type": "code",
   "execution_count": 26,
   "metadata": {},
   "outputs": [
    {
     "name": "stdout",
     "output_type": "stream",
     "text": [
      "\u001b[0m2019-07-21 01:26:10 INFO:libro.romanzo.companile:Se la luna mi prta fortuna\u001b[0m\u001b[0m\u001b[0m\n"
     ]
    }
   ],
   "source": [
    "loginfo('Se la luna mi prta fortuna', logger='libro.romanzo.companile')"
   ]
  },
  {
   "cell_type": "code",
   "execution_count": 27,
   "metadata": {},
   "outputs": [
    {
     "name": "stdout",
     "output_type": "stream",
     "text": [
      "\u001b[0m2019-07-21 01:26:10 INFO:libro.romanzo.companile:Giovanotti, non esageriamo!\u001b[0m\u001b[0m\u001b[0m\n"
     ]
    }
   ],
   "source": [
    "loginfo('Giovanotti, non esageriamo!', logger='libro.romanzo.companile')"
   ]
  },
  {
   "cell_type": "code",
   "execution_count": 28,
   "metadata": {},
   "outputs": [
    {
     "name": "stdout",
     "output_type": "stream",
     "text": [
      "\u001b[0m2019-07-21 01:26:10 INFO:libro.romanzo.lessing:memories of a survivor\u001b[0m\u001b[0m\u001b[0m\n"
     ]
    }
   ],
   "source": [
    "loginfo('memories of a survivor', logger='libro.romanzo.lessing')"
   ]
  },
  {
   "cell_type": "code",
   "execution_count": 29,
   "metadata": {},
   "outputs": [],
   "source": [
    "logwarn('talking to a hierarchically upper logger', logger='libro')"
   ]
  },
  {
   "cell_type": "code",
   "execution_count": 30,
   "metadata": {},
   "outputs": [],
   "source": [
    "logerror('talking to an unrelated logger', logger='rivista.cucina')"
   ]
  },
  {
   "cell_type": "markdown",
   "metadata": {},
   "source": [
    "Notice that loggers are automatically defined by the simple action of naming them.  What happened above is that the handler we created, attached to the `libro.romanzo` logger, only saw the records going to the loggers below its logger.  All record going to hierarchically upper loggers or to unrelated loggers are not logged, regardless of their severity."
   ]
  },
  {
   "cell_type": "markdown",
   "metadata": {},
   "source": [
    "Also notice that the text printed doesn't contain any more that \"::\" between the two \":\" there's the name of the logger that received the logging record in the first place."
   ]
  },
  {
   "cell_type": "markdown",
   "metadata": {},
   "source": [
    "## Logger Objects"
   ]
  },
  {
   "cell_type": "markdown",
   "metadata": {},
   "source": [
    "In the last example box in the previous section we have sent logging records to the \"libro.romanzo.companile\" logger.  We have done this by invoking the global loginfo function, passing the name of the logger.  This is only practical if you are logging to the root logger or if you are using many differnt loggers, not if you are sending, as in our example, more records to the same logger.  If you are taling the whole time to the same logger, you do not want to have to repeat the name of the logger each time you send it a record."
   ]
  },
  {
   "cell_type": "markdown",
   "metadata": {},
   "source": [
    "The solution to this is in the object oriented approach taken in this logging library.  The `getLogger()` function returns a Logger object, which, since we are using Reference Classes, is itself an environment.  In the previous examples we have only used the fact that Logger objects are environments, let's now have a look at what more they offer."
   ]
  },
  {
   "cell_type": "code",
   "execution_count": 31,
   "metadata": {},
   "outputs": [
    {
     "name": "stdout",
     "output_type": "stream",
     "text": [
      "Reference class 'Logger' [package \"logging\"] with 4 fields\n",
      " $ name        : chr \"\"\n",
      " $ handlers    : Named list()\n",
      " $ level       : Named num 20\n",
      "  ..- attr(*, \"names\")= chr \"INFO\"\n",
      " $ msg_composer:function ()  \n",
      " and 32 methods, of which 18 are  possibly relevant:\n",
      "   .deducelevel, .logrecord, addHandler, debug, error, fine, finer, finest,\n",
      "   getHandler, getLevel, getMsgComposer, getParent, info, log, removeHandler,\n",
      "   setLevel, setMsgComposer, warn\n"
     ]
    }
   ],
   "source": [
    "str(getLogger())"
   ]
  },
  {
   "cell_type": "code",
   "execution_count": 32,
   "metadata": {},
   "outputs": [
    {
     "data": {
      "text/html": [
       "TRUE"
      ],
      "text/latex": [
       "TRUE"
      ],
      "text/markdown": [
       "TRUE"
      ],
      "text/plain": [
       "[1] TRUE"
      ]
     },
     "metadata": {},
     "output_type": "display_data"
    }
   ],
   "source": [
    "is.environment(getLogger())"
   ]
  },
  {
   "cell_type": "markdown",
   "metadata": {},
   "source": [
    "Let me keep it compact, I'm just giving you the code that will produce the same logging as in the previous example.  Do notice that you can mix invoking object methods with usage of global functions."
   ]
  },
  {
   "cell_type": "code",
   "execution_count": 33,
   "metadata": {},
   "outputs": [],
   "source": [
    "logReset()"
   ]
  },
  {
   "cell_type": "code",
   "execution_count": 34,
   "metadata": {},
   "outputs": [],
   "source": [
    "getLogger('libro.romanzo')$addHandler(writeToConsole)"
   ]
  },
  {
   "cell_type": "code",
   "execution_count": 35,
   "metadata": {},
   "outputs": [],
   "source": [
    "lrc <- getLogger('libro.romanzo.companile')"
   ]
  },
  {
   "cell_type": "code",
   "execution_count": 36,
   "metadata": {},
   "outputs": [
    {
     "name": "stdout",
     "output_type": "stream",
     "text": [
      "\u001b[0m2019-07-21 01:26:11 INFO:libro.romanzo.companile:Ma cos'è questo amore?\u001b[0m\u001b[0m\u001b[0m\n"
     ]
    }
   ],
   "source": [
    "lrc$info('Ma cos\\'è questo amore?')"
   ]
  },
  {
   "cell_type": "code",
   "execution_count": 37,
   "metadata": {},
   "outputs": [
    {
     "name": "stdout",
     "output_type": "stream",
     "text": [
      "\u001b[0m2019-07-21 01:26:11 INFO:libro.romanzo.companile:Se la luna mi porta fortuna\u001b[0m\u001b[0m\u001b[0m\n"
     ]
    }
   ],
   "source": [
    "lrc$info('Se la luna mi porta fortuna')"
   ]
  },
  {
   "cell_type": "code",
   "execution_count": 38,
   "metadata": {},
   "outputs": [
    {
     "name": "stdout",
     "output_type": "stream",
     "text": [
      "\u001b[0m2019-07-21 01:26:11 INFO:libro.romanzo.companile:Giovanotti, non esageriamo!\u001b[0m\u001b[0m\u001b[0m\n"
     ]
    }
   ],
   "source": [
    "lrc$info('Giovanotti, non esageriamo!')"
   ]
  },
  {
   "cell_type": "code",
   "execution_count": 39,
   "metadata": {},
   "outputs": [
    {
     "name": "stdout",
     "output_type": "stream",
     "text": [
      "\u001b[0m2019-07-21 01:26:11 INFO:libro.romanzo.lessing:memories of a survivor\u001b[0m\u001b[0m\u001b[0m\n"
     ]
    }
   ],
   "source": [
    "loginfo('memories of a survivor', logger='libro.romanzo.lessing')"
   ]
  },
  {
   "cell_type": "code",
   "execution_count": 40,
   "metadata": {},
   "outputs": [],
   "source": [
    "getLogger('libro')$warn('talking to a hierarchically upper logger')"
   ]
  },
  {
   "cell_type": "code",
   "execution_count": 41,
   "metadata": {},
   "outputs": [],
   "source": [
    "logerror('talking to an unrelated logger', logger='rivista.cucina')"
   ]
  },
  {
   "cell_type": "markdown",
   "metadata": {},
   "source": [
    "## Logging to File"
   ]
  },
  {
   "cell_type": "markdown",
   "metadata": {},
   "source": [
    "Actually the name of this paragraph is misleading.  A more correct name would be *handling to file*, since it's a handler and not a logger that is actually writing some representation of your logrecords to a file. "
   ]
  },
  {
   "cell_type": "markdown",
   "metadata": {},
   "source": [
    "To make sure log records are sent to a file, you choose a logger and attach to a it a handler with a function that writes to your file.  The logging package exports the commodity function `writeToFile` for this purpose.  The name of the file is given as an extra parameter in the call to `addHandler`."
   ]
  },
  {
   "cell_type": "markdown",
   "metadata": {},
   "source": [
    "Recall that both loggers *and* handlers have a level.  Records at a specific severity are examined by loggers first; if the severity is higher than the level of the logger, they are offered to all of the attached handlers.  Handlers will again check the level of the record before taking action.  In the following example we make sure absolutely all logrecords are examined by initializing the root logger at the `FINEST` level.  The level of the `basic_stdout` console handler is not affected."
   ]
  },
  {
   "cell_type": "code",
   "execution_count": 42,
   "metadata": {},
   "outputs": [],
   "source": [
    "logReset()"
   ]
  },
  {
   "cell_type": "code",
   "execution_count": 43,
   "metadata": {},
   "outputs": [],
   "source": [
    "basicConfig(level='FINEST')"
   ]
  },
  {
   "cell_type": "code",
   "execution_count": 44,
   "metadata": {},
   "outputs": [],
   "source": [
    "addHandler(writeToFile, file='~/testing.log', level='DEBUG')"
   ]
  },
  {
   "cell_type": "code",
   "execution_count": 45,
   "metadata": {},
   "outputs": [
    {
     "data": {
      "text/html": [
       "<ol class=list-inline>\n",
       "\t<li>'basic.stdout'</li>\n",
       "\t<li>'writeToFile'</li>\n",
       "</ol>\n"
      ],
      "text/latex": [
       "\\begin{enumerate*}\n",
       "\\item 'basic.stdout'\n",
       "\\item 'writeToFile'\n",
       "\\end{enumerate*}\n"
      ],
      "text/markdown": [
       "1. 'basic.stdout'\n",
       "2. 'writeToFile'\n",
       "\n",
       "\n"
      ],
      "text/plain": [
       "[1] \"basic.stdout\" \"writeToFile\" "
      ]
     },
     "metadata": {},
     "output_type": "display_data"
    }
   ],
   "source": [
    "with(getLogger(), names(handlers))"
   ]
  },
  {
   "cell_type": "code",
   "execution_count": 46,
   "metadata": {},
   "outputs": [
    {
     "name": "stdout",
     "output_type": "stream",
     "text": [
      "\u001b[0m2019-07-21 01:26:11 INFO::test 1\u001b[0m\u001b[0m\u001b[0m\n"
     ]
    }
   ],
   "source": [
    "loginfo('test %d', 1)"
   ]
  },
  {
   "cell_type": "code",
   "execution_count": 47,
   "metadata": {},
   "outputs": [
    {
     "name": "stdout",
     "output_type": "stream",
     "text": [
      "\u001b[38;5;31m2019-07-21 01:26:11 DEBUG::test 2\u001b[39m\u001b[0m\u001b[0m\n"
     ]
    }
   ],
   "source": [
    "logdebug('test %d', 2)"
   ]
  },
  {
   "cell_type": "code",
   "execution_count": 48,
   "metadata": {},
   "outputs": [
    {
     "name": "stdout",
     "output_type": "stream",
     "text": [
      "\u001b[38;5;214m2019-07-21 01:26:11 WARNING::test 3\u001b[39m\u001b[0m\u001b[0m\n"
     ]
    }
   ],
   "source": [
    "logwarn('test %d', 3)"
   ]
  },
  {
   "cell_type": "code",
   "execution_count": 49,
   "metadata": {},
   "outputs": [
    {
     "name": "stdout",
     "output_type": "stream",
     "text": [
      "\u001b[38;5;251m2019-07-21 01:26:11 FINEST::test 4\u001b[39m\u001b[0m\u001b[0m\n"
     ]
    }
   ],
   "source": [
    "logfinest('test %d', 4)"
   ]
  },
  {
   "cell_type": "markdown",
   "metadata": {},
   "source": [
    "If the file was not existing or empty, this would be its content after the above steps:"
   ]
  },
  {
   "cell_type": "markdown",
   "metadata": {},
   "source": [
    "2019-07-21 00:59:40 INFO::test 1 <br>\n",
    "2019-07-21 00:59:51 DEBUG::test 2 <br>\n",
    "2019-07-21 01:00:00 WARNING::test 3 <br>"
   ]
  },
  {
   "cell_type": "markdown",
   "metadata": {},
   "source": [
    "All log records have been passed to both handlers `basic.stdout` and `writeToFile`.  The default console handler has handled records with severity at or above `INFO`, our file handler had threshold `DEBUG` so it handled also the second record in the example session.  The fourth  record was dropped by both handlers."
   ]
  },
  {
   "cell_type": "markdown",
   "metadata": {},
   "source": [
    "## Formatting Your Log Records"
   ]
  },
  {
   "cell_type": "markdown",
   "metadata": {},
   "source": [
    "In this session we are going to see how to generate a diagnostics file for a system that organizes logrecords in a different way than Python."
   ]
  },
  {
   "cell_type": "code",
   "execution_count": 50,
   "metadata": {},
   "outputs": [],
   "source": [
    "formatter.fewsdiagnostics <- function(record) {\n",
    "    if (record$level <= loglevels[['INFO']])\n",
    "        level <- 3\n",
    "    else if (record$level <= loglevels[['WARNING']])\n",
    "        level <- 2\n",
    "    else if (record$level <= loglevels[['ERROR']])\n",
    "        level <- 1\n",
    "    else\n",
    "        level <- 0\n",
    "    \n",
    "    sprintf('  <line level=\"%d\" description=\"LizardScripter :: %s :: %s\"/>\\n', level, \n",
    "            record$timestamp, record$msg)\n",
    "}"
   ]
  },
  {
   "cell_type": "markdown",
   "metadata": {},
   "source": [
    "Notice that the field `$msg` of a record is already \"formatted\", as we have seen with `logwarn('my %s is %d', 'name', 5)`.  That part can be used but not undone any more."
   ]
  },
  {
   "cell_type": "markdown",
   "metadata": {},
   "source": [
    "When you add a handler to a logger, you can use the `formatter` parameter to associate to the handler a function that takes a logrecord and returns a string.  The above example function is such a function."
   ]
  },
  {
   "cell_type": "markdown",
   "metadata": {},
   "source": [
    "The formatter you can associate to a handler can combine the tags in the logrecord to produce a string.  The tags that are available in a logrecord are: `$logger` (the name of the logger which produced the record), `$msg`, `$timestamp`, `$level` (numeric), `$levelname` (character)."
   ]
  },
  {
   "cell_type": "markdown",
   "metadata": {},
   "source": [
    "If you don't specify the `formatter` parameter, the default formatter is used, which looks like this:"
   ]
  },
  {
   "cell_type": "code",
   "execution_count": 51,
   "metadata": {},
   "outputs": [],
   "source": [
    "defaultFormat <- function(record) {\n",
    "    text <- paste(record$timestamp, paste(record$levelname, record$logger, record$msg, sep=\":\"))\n",
    "}"
   ]
  },
  {
   "cell_type": "markdown",
   "metadata": {},
   "source": [
    "The rest of the code, just slightly simplified, showing how we actually use this capability is given here."
   ]
  },
  {
   "cell_type": "markdown",
   "metadata": {},
   "source": [
    "Notice that the `diagonostics` handler we add will not handle `DEBUG` logrecords."
   ]
  },
  {
   "cell_type": "code",
   "execution_count": 52,
   "metadata": {},
   "outputs": [],
   "source": [
    "setup.fewsdiagnostics <- function(filename) {\n",
    "    cat('<?xml version=\"1.0\" encoding=\"UTF-8\" standalone=\"yes\"?>\\n', file=filename, append=FALSE)\n",
    "    cat('<Diag version=\"1.2\" xmlns=\"...\" xmlns:xsi=\"http://www.w3.org/2001/XMLSchema-instance\"\n",
    "xsi:schemaLocation=\"...\">\\n', file=filename, append=FALSE)\n",
    "    addHandler('diagnostics', \n",
    "              writeToFile, file=filename,\n",
    "              logger='fews.diagnostics',\n",
    "              formatter=formatter.fewsdiagnostics)\n",
    "}\n",
    "\n",
    "teardown.fewsdiagnostics <- function(filename) {\n",
    "    cat('</Diag>\\n', file=filename, append=TRUE)\n",
    "    removeHandler('diagnostics', logger='fews.diagnostics')\n",
    "}"
   ]
  },
  {
   "cell_type": "markdown",
   "metadata": {},
   "source": [
    "## Writing Your Own Handlers"
   ]
  },
  {
   "cell_type": "markdown",
   "metadata": {},
   "source": [
    "Different from in the logging library in Python and in Java, handlers in this logging library aren't objects: they are environments stored in one of the loggers.  The principle characteristic property of a handler is its `action`.  An action is a function that specifies what the handler should do with a logrecord that, based on all that we have seen above, must be handled.  The to commodity functions we have seen in the first two sessions, `writeToConsole` and `writeToFile` are action functions."
   ]
  },
  {
   "cell_type": "markdown",
   "metadata": {},
   "source": [
    "A look at `writeToFile` will help understand the idea implemented in this library:"
   ]
  },
  {
   "cell_type": "code",
   "execution_count": 53,
   "metadata": {},
   "outputs": [
    {
     "data": {
      "text/html": [
       "<pre class=language-r><code>function (msg, handler, ...) \n",
       "{\n",
       "<span style=white-space:pre-wrap>    if (length(list(...)) &amp;&amp; \"dry\" %in% names(list(...))) </span>\n",
       "<span style=white-space:pre-wrap>        return(exists(\"file\", envir = handler))</span>\n",
       "<span style=white-space:pre-wrap>    cat(paste0(msg, \"\\n\"), file = with(handler, file), append = TRUE)</span>\n",
       "}</code></pre>"
      ],
      "text/latex": [
       "\\begin{minted}{r}\n",
       "function (msg, handler, ...) \n",
       "\\{\n",
       "    if (length(list(...)) \\&\\& \"dry\" \\%in\\% names(list(...))) \n",
       "        return(exists(\"file\", envir = handler))\n",
       "    cat(paste0(msg, \"\\textbackslash{}n\"), file = with(handler, file), append = TRUE)\n",
       "\\}\n",
       "\\end{minted}"
      ],
      "text/markdown": [
       "```r\n",
       "function (msg, handler, ...) \n",
       "{\n",
       "    if (length(list(...)) && \"dry\" %in% names(list(...))) \n",
       "        return(exists(\"file\", envir = handler))\n",
       "    cat(paste0(msg, \"\\n\"), file = with(handler, file), append = TRUE)\n",
       "}\n",
       "```"
      ],
      "text/plain": [
       "function (msg, handler, ...) \n",
       "{\n",
       "    if (length(list(...)) && \"dry\" %in% names(list(...))) \n",
       "        return(exists(\"file\", envir = handler))\n",
       "    cat(paste0(msg, \"\\n\"), file = with(handler, file), append = TRUE)\n",
       "}\n",
       "<bytecode: 0x7ff39ac777d0>\n",
       "<environment: namespace:logging>"
      ]
     },
     "metadata": {},
     "output_type": "display_data"
    }
   ],
   "source": [
    "writeToFile"
   ]
  },
  {
   "cell_type": "markdown",
   "metadata": {},
   "source": [
    "An action is invoked if a record must be handled.  Its result code is ignored and all its output goes to the console.  It receives exactly two arguments, the formatted message that must be output (the string returned by the formatter of the handler) and the handler owning the action.  Recall that a handler is an environment: in the action you can inspect the `handler` environment to perform the desired behaviour."
   ]
  },
  {
   "cell_type": "markdown",
   "metadata": {},
   "source": [
    "Imagine you want a handler to send its messages to an xmlrpc server or to a password protected ftp server, you would add these properties in the call to `addHandler`.  `addHandler` would store them in the new handler environment.  Your action function would retrieve the values from the handler and use them to connect to your hypothetical external server."
   ]
  },
  {
   "cell_type": "markdown",
   "metadata": {},
   "source": [
    "The structure of your solution might be something like this:"
   ]
  },
  {
   "cell_type": "code",
   "execution_count": 54,
   "metadata": {},
   "outputs": [
    {
     "ename": "ERROR",
     "evalue": "Error in with(handler_env, action)(NA, handler_env, dry = TRUE): unused argument (dry = TRUE)\n",
     "output_type": "error",
     "traceback": [
      "Error in with(handler_env, action)(NA, handler_env, dry = TRUE): unused argument (dry = TRUE)\nTraceback:\n",
      "1. addHandler(sendToFtpServer, user = \"\", server = \"\", passwd = \"\", \n .     logger = \"deep.deeper.deepest\")",
      "2. logger$addHandler(handler = handler_name, action = handler, ...)"
     ]
    }
   ],
   "source": [
    "sendToFtpServer <- function(msg, handler) {\n",
    "    proxy <- connectToServer(with(handler, server), with(handler, user), with(handler, passwd))\n",
    "    do_the_rest()\n",
    "}\n",
    "\n",
    "addHandler(sendToFtpServer, user='', server='', passwd='', logger='deep.deeper.deepest')"
   ]
  }
 ],
 "metadata": {
  "kernelspec": {
   "display_name": "R",
   "language": "R",
   "name": "ir"
  },
  "language_info": {
   "codemirror_mode": "r",
   "file_extension": ".r",
   "mimetype": "text/x-r-source",
   "name": "R",
   "pygments_lexer": "r",
   "version": "3.6.1"
  }
 },
 "nbformat": 4,
 "nbformat_minor": 2
}
